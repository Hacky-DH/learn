{
 "cells": [
  {
   "cell_type": "markdown",
   "metadata": {},
   "source": [
    "# Install IJulia\n",
    "\n",
    "[IJulia](https://github.com/JuliaLang/IJulia.jl) is Jupyter kernel for Julia\n",
    "\n",
    "Install [Julia](https://julialang.org/) firstly, then in Julia REPL\n",
    "```julia\n",
    "julia>\n",
    "using Pkg\n",
    "Pkg.add(\"IJulia\")\n",
    "Pkg.build(\"ZMQ\")\n",
    "Pkg.build(\"IJulia\")\n",
    "```\n",
    "and finally start the notebook with ```jupyter notebook```\n",
    "\n",
    "[Learn Julia in Y minutes](https://learnxinyminutes.com/docs/julia/)\n",
    "\n",
    "Enjoy!\n",
    "\n",
    "Julia Version 1.1.0"
   ]
  },
  {
   "cell_type": "code",
   "execution_count": 1,
   "metadata": {},
   "outputs": [
    {
     "name": "stdout",
     "output_type": "stream",
     "text": [
      "Hello Julia\n"
     ]
    }
   ],
   "source": [
    "println(\"Hello Julia\")"
   ]
  },
  {
   "cell_type": "markdown",
   "metadata": {},
   "source": [
    "# Julia types"
   ]
  },
  {
   "cell_type": "code",
   "execution_count": 2,
   "metadata": {},
   "outputs": [
    {
     "data": {
      "text/plain": [
       "(Int64, Int8, Int16, Int32, Int64, Int128, UInt64, UInt8, UInt16, UInt32, UInt64, UInt128, Float16, Float32, Float64, Inf, NaN, BigInt, BigFloat)"
      ]
     },
     "execution_count": 2,
     "metadata": {},
     "output_type": "execute_result"
    }
   ],
   "source": [
    "Int,Int8,Int16,Int32,Int64,Int128,UInt,UInt8,UInt16,UInt32,UInt64,UInt128,Float16,Float32,Float64,Inf,NaN,BigInt,BigFloat"
   ]
  },
  {
   "cell_type": "code",
   "execution_count": 3,
   "metadata": {},
   "outputs": [
    {
     "data": {
      "text/plain": [
       "(-9223372036854775808, 9223372036854775807)"
      ]
     },
     "execution_count": 3,
     "metadata": {},
     "output_type": "execute_result"
    }
   ],
   "source": [
    "typemin(Int), typemax(Int)"
   ]
  },
  {
   "cell_type": "code",
   "execution_count": 4,
   "metadata": {},
   "outputs": [
    {
     "data": {
      "text/plain": [
       "(Int64, UInt8, UInt16, UInt8, Complex{Int64}, Rational{Int64})"
      ]
     },
     "execution_count": 4,
     "metadata": {},
     "output_type": "execute_result"
    }
   ],
   "source": [
    "typeof(1),typeof(0x1),typeof(0x123),typeof(0b101),typeof(2 + 1im),typeof(2 // 3)"
   ]
  },
  {
   "cell_type": "code",
   "execution_count": 5,
   "metadata": {},
   "outputs": [
    {
     "data": {
      "text/plain": [
       "(true, false)"
      ]
     },
     "execution_count": 5,
     "metadata": {},
     "output_type": "execute_result"
    }
   ],
   "source": [
    "true, false"
   ]
  },
  {
   "cell_type": "code",
   "execution_count": 6,
   "metadata": {},
   "outputs": [
    {
     "data": {
      "text/plain": [
       "57.400000000000006"
      ]
     },
     "execution_count": 6,
     "metadata": {},
     "output_type": "execute_result"
    }
   ],
   "source": [
    "x=8\n",
    "2x^2 - 6.3(x+4) + 5"
   ]
  },
  {
   "cell_type": "code",
   "execution_count": 7,
   "metadata": {},
   "outputs": [
    {
     "data": {
      "text/plain": [
       "(0, 0.0)"
      ]
     },
     "execution_count": 7,
     "metadata": {},
     "output_type": "execute_result"
    }
   ],
   "source": [
    "zero(x), zero(Float64)"
   ]
  },
  {
   "cell_type": "code",
   "execution_count": 8,
   "metadata": {},
   "outputs": [
    {
     "data": {
      "text/plain": [
       "true"
      ]
     },
     "execution_count": 8,
     "metadata": {},
     "output_type": "execute_result"
    }
   ],
   "source": [
    "2 < x < 9"
   ]
  },
  {
   "cell_type": "code",
   "execution_count": 9,
   "metadata": {},
   "outputs": [
    {
     "data": {
      "text/plain": [
       "(16, 384)"
      ]
     },
     "execution_count": 9,
     "metadata": {},
     "output_type": "execute_result"
    }
   ],
   "source": [
    "gcd(128,48), lcm(128, 48)"
   ]
  },
  {
   "cell_type": "code",
   "execution_count": 10,
   "metadata": {},
   "outputs": [
    {
     "data": {
      "text/plain": [
       "12.041594578792296"
      ]
     },
     "execution_count": 10,
     "metadata": {},
     "output_type": "execute_result"
    }
   ],
   "source": [
    "hypot(8,9)"
   ]
  },
  {
   "cell_type": "code",
   "execution_count": 11,
   "metadata": {},
   "outputs": [
    {
     "data": {
      "text/plain": [
       "40 + 5im"
      ]
     },
     "execution_count": 11,
     "metadata": {},
     "output_type": "execute_result"
    }
   ],
   "source": [
    "# complex\n",
    "5(1 + 2im)*(2 - 3im)"
   ]
  },
  {
   "cell_type": "code",
   "execution_count": 12,
   "metadata": {},
   "outputs": [
    {
     "data": {
      "text/plain": [
       "11//8"
      ]
     },
     "execution_count": 12,
     "metadata": {},
     "output_type": "execute_result"
    }
   ],
   "source": [
    "# fraction\n",
    "1 + 6//16"
   ]
  },
  {
   "cell_type": "code",
   "execution_count": 13,
   "metadata": {},
   "outputs": [
    {
     "data": {
      "text/plain": [
       "\"0000000000000000000000000000000000000000000000000000001101111000\""
      ]
     },
     "execution_count": 13,
     "metadata": {},
     "output_type": "execute_result"
    }
   ],
   "source": [
    "bitstring(888)"
   ]
  },
  {
   "cell_type": "code",
   "execution_count": 14,
   "metadata": {},
   "outputs": [
    {
     "data": {
      "text/plain": [
       "\"0011111111010011001100110011001100110011001100110011001100110011\""
      ]
     },
     "execution_count": 14,
     "metadata": {},
     "output_type": "execute_result"
    }
   ],
   "source": [
    "bitstring(0.3)"
   ]
  },
  {
   "cell_type": "code",
   "execution_count": 15,
   "metadata": {},
   "outputs": [
    {
     "data": {
      "text/plain": [
       "(String, Char)"
      ]
     },
     "execution_count": 15,
     "metadata": {},
     "output_type": "execute_result"
    }
   ],
   "source": [
    "s=\"julia\"\n",
    "typeof(s), typeof('a')"
   ]
  },
  {
   "cell_type": "code",
   "execution_count": 16,
   "metadata": {},
   "outputs": [
    {
     "data": {
      "text/plain": [
       "true"
      ]
     },
     "execution_count": 16,
     "metadata": {},
     "output_type": "execute_result"
    }
   ],
   "source": [
    "\"good\" > \"bye\""
   ]
  },
  {
   "cell_type": "code",
   "execution_count": 17,
   "metadata": {},
   "outputs": [
    {
     "data": {
      "text/plain": [
       "('j', 'a', \"uli\")"
      ]
     },
     "execution_count": 17,
     "metadata": {},
     "output_type": "execute_result"
    }
   ],
   "source": [
    "# based on 1\n",
    "s[1], s[end], s[2:4]"
   ]
  },
  {
   "cell_type": "code",
   "execution_count": 18,
   "metadata": {
    "scrolled": true
   },
   "outputs": [
    {
     "data": {
      "text/plain": [
       "(65, 'Y')"
      ]
     },
     "execution_count": 18,
     "metadata": {},
     "output_type": "execute_result"
    }
   ],
   "source": [
    "Int('A'), Char(89)"
   ]
  },
  {
   "cell_type": "code",
   "execution_count": 19,
   "metadata": {},
   "outputs": [
    {
     "data": {
      "text/plain": [
       "\"Hello julia 8\""
      ]
     },
     "execution_count": 19,
     "metadata": {},
     "output_type": "execute_result"
    }
   ],
   "source": [
    "h = \"Hello $s $(3+5)\""
   ]
  },
  {
   "cell_type": "code",
   "execution_count": 20,
   "metadata": {},
   "outputs": [
    {
     "data": {
      "text/plain": [
       "(\"**********\", 13)"
      ]
     },
     "execution_count": 20,
     "metadata": {},
     "output_type": "execute_result"
    }
   ],
   "source": [
    "repeat(\"*\",10), length(h)"
   ]
  },
  {
   "cell_type": "code",
   "execution_count": 21,
   "metadata": {},
   "outputs": [
    {
     "name": "stdout",
     "output_type": "stream",
     "text": [
      "demo 5.30\n"
     ]
    }
   ],
   "source": [
    "using Printf\n",
    "@printf \"demo %0.2f\\n\" 5.3"
   ]
  },
  {
   "cell_type": "code",
   "execution_count": 22,
   "metadata": {},
   "outputs": [
    {
     "data": {
      "text/plain": [
       "3-element Array{Int64,1}:\n",
       " 4\n",
       " 6\n",
       " 8"
      ]
     },
     "execution_count": 22,
     "metadata": {},
     "output_type": "execute_result"
    }
   ],
   "source": [
    "a = [4,6,8]"
   ]
  },
  {
   "cell_type": "markdown",
   "metadata": {},
   "source": [
    "# Julia function "
   ]
  },
  {
   "cell_type": "code",
   "execution_count": 23,
   "metadata": {
    "scrolled": true
   },
   "outputs": [
    {
     "data": {
      "text/plain": [
       "bar (generic function with 1 method)"
      ]
     },
     "execution_count": 23,
     "metadata": {},
     "output_type": "execute_result"
    }
   ],
   "source": [
    "function bar(x,y)\n",
    "  x + y\n",
    "end"
   ]
  },
  {
   "cell_type": "code",
   "execution_count": 24,
   "metadata": {},
   "outputs": [
    {
     "data": {
      "text/plain": [
       "67"
      ]
     },
     "execution_count": 24,
     "metadata": {},
     "output_type": "execute_result"
    }
   ],
   "source": [
    "foo(x,y) = 3x^2 + 8y\n",
    "foo(3,5)"
   ]
  },
  {
   "cell_type": "code",
   "execution_count": 25,
   "metadata": {},
   "outputs": [
    {
     "data": {
      "text/plain": [
       "3-element Array{Float64,1}:\n",
       " 79.0 \n",
       " 28.25\n",
       " 16.49"
      ]
     },
     "execution_count": 25,
     "metadata": {},
     "output_type": "execute_result"
    }
   ],
   "source": [
    "map(x -> x^2 + 2x - 1, [8, 4.5, 3.3])"
   ]
  },
  {
   "cell_type": "code",
   "execution_count": 26,
   "metadata": {},
   "outputs": [
    {
     "data": {
      "text/plain": [
       "4-element Array{Int64,1}:\n",
       "  0\n",
       "  4\n",
       " -3\n",
       "  1"
      ]
     },
     "execution_count": 26,
     "metadata": {},
     "output_type": "execute_result"
    }
   ],
   "source": [
    "# mulit line\n",
    "map([-8, 4, -3, 0]) do x\n",
    "    if x < 0 && iseven(x)\n",
    "        return 0\n",
    "    elseif x == 0\n",
    "        return 1\n",
    "    else\n",
    "        return x\n",
    "    end\n",
    "end"
   ]
  },
  {
   "cell_type": "code",
   "execution_count": 27,
   "metadata": {},
   "outputs": [
    {
     "data": {
      "text/plain": [
       "3"
      ]
     },
     "execution_count": 27,
     "metadata": {},
     "output_type": "execute_result"
    }
   ],
   "source": [
    "z = (x = 1; y = 2; x + y)"
   ]
  },
  {
   "cell_type": "code",
   "execution_count": 28,
   "metadata": {},
   "outputs": [
    {
     "data": {
      "text/plain": [
       "3"
      ]
     },
     "execution_count": 28,
     "metadata": {},
     "output_type": "execute_result"
    }
   ],
   "source": [
    "begin\n",
    "    x = 1; \n",
    "    y = 2;\n",
    "    if x < y\n",
    "        x + y\n",
    "    else\n",
    "        x * y\n",
    "    end\n",
    "end"
   ]
  },
  {
   "cell_type": "code",
   "execution_count": 29,
   "metadata": {},
   "outputs": [
    {
     "data": {
      "text/plain": [
       "3"
      ]
     },
     "execution_count": 29,
     "metadata": {},
     "output_type": "execute_result"
    }
   ],
   "source": [
    "min(x, y) = x < y ? x : y; min(3,4)"
   ]
  },
  {
   "cell_type": "code",
   "execution_count": 30,
   "metadata": {},
   "outputs": [
    {
     "data": {
      "text/plain": [
       "40320"
      ]
     },
     "execution_count": 30,
     "metadata": {},
     "output_type": "execute_result"
    }
   ],
   "source": [
    "# error() throw ErrorException\n",
    "# warn() info()\n",
    "function factorial(n::Int)\n",
    "    n == 0 && return 1\n",
    "    n >= 0 || error(\"n must be non-negative\")\n",
    "    n * factorial(n-1)\n",
    "end\n",
    "factorial(8)"
   ]
  },
  {
   "cell_type": "code",
   "execution_count": 31,
   "metadata": {},
   "outputs": [
    {
     "name": "stdout",
     "output_type": "stream",
     "text": [
      "occur error ErrorException(\"n must be non-negative\")\n"
     ]
    }
   ],
   "source": [
    "try factorial(-4)\n",
    "catch e\n",
    "    println(\"occur error \", e)\n",
    "end"
   ]
  },
  {
   "cell_type": "code",
   "execution_count": 32,
   "metadata": {},
   "outputs": [
    {
     "name": "stdout",
     "output_type": "stream",
     "text": [
      "15\n"
     ]
    }
   ],
   "source": [
    "sum = 0\n",
    "# Range\n",
    "for i = 1:5\n",
    "    sum += i\n",
    "end\n",
    "println(sum)"
   ]
  },
  {
   "cell_type": "code",
   "execution_count": 33,
   "metadata": {},
   "outputs": [
    {
     "name": "stdout",
     "output_type": "stream",
     "text": [
      "31\n"
     ]
    }
   ],
   "source": [
    "for i in [8,5,3]\n",
    "    sum += i\n",
    "end\n",
    "println(sum)"
   ]
  },
  {
   "cell_type": "markdown",
   "metadata": {},
   "source": [
    "# Julia [Tasks](https://docs.julialang.org/en/v1/manual/control-flow/#man-tasks-1) (aka Coroutines)"
   ]
  },
  {
   "cell_type": "code",
   "execution_count": 34,
   "metadata": {},
   "outputs": [
    {
     "data": {
      "text/plain": [
       "\"start\""
      ]
     },
     "execution_count": 34,
     "metadata": {},
     "output_type": "execute_result"
    }
   ],
   "source": [
    "function producer(c::Channel)\n",
    "    put!(c, \"start\")\n",
    "    for n = 1:3\n",
    "        put!(c, 2n)\n",
    "    end\n",
    "    put!(c, \"stop\")\n",
    "end\n",
    "c = Channel(producer)\n",
    "take!(c)"
   ]
  },
  {
   "cell_type": "code",
   "execution_count": 35,
   "metadata": {},
   "outputs": [
    {
     "name": "stdout",
     "output_type": "stream",
     "text": [
      "start\n",
      "2\n",
      "4\n",
      "6\n",
      "stop\n"
     ]
    }
   ],
   "source": [
    "for x in Channel(producer)\n",
    "    println(x)\n",
    "end"
   ]
  },
  {
   "cell_type": "code",
   "execution_count": 36,
   "metadata": {},
   "outputs": [
    {
     "name": "stdout",
     "output_type": "stream",
     "text": [
      "search: \u001b[0m\u001b[1mp\u001b[22m\u001b[0m\u001b[1mu\u001b[22m\u001b[0m\u001b[1mt\u001b[22m\u001b[0m\u001b[1m!\u001b[22m \u001b[0m\u001b[1mp\u001b[22merm\u001b[0m\u001b[1mu\u001b[22m\u001b[0m\u001b[1mt\u001b[22me\u001b[0m\u001b[1m!\u001b[22m inv\u001b[0m\u001b[1mp\u001b[22merm\u001b[0m\u001b[1mu\u001b[22m\u001b[0m\u001b[1mt\u001b[22me\u001b[0m\u001b[1m!\u001b[22m \u001b[0m\u001b[1mp\u001b[22m\u001b[0m\u001b[1mu\u001b[22mshfirs\u001b[0m\u001b[1mt\u001b[22m\u001b[0m\u001b[1m!\u001b[22m \u001b[0m\u001b[1mp\u001b[22merm\u001b[0m\u001b[1mu\u001b[22m\u001b[0m\u001b[1mt\u001b[22medims\u001b[0m\u001b[1m!\u001b[22m is\u001b[0m\u001b[1mp\u001b[22m\u001b[0m\u001b[1mu\u001b[22mnc\u001b[0m\u001b[1mt\u001b[22m \u001b[0m\u001b[1mp\u001b[22merm\u001b[0m\u001b[1mu\u001b[22m\u001b[0m\u001b[1mt\u001b[22medims\n",
      "\n"
     ]
    },
    {
     "data": {
      "text/latex": [
       "\\begin{verbatim}\n",
       "put!(c::Channel, v)\n",
       "\\end{verbatim}\n",
       "Append an item \\texttt{v} to the channel \\texttt{c}. Blocks if the channel is full.\n",
       "\n",
       "For unbuffered channels, blocks until a \\href{@ref}{\\texttt{take!}} is performed by a different task.\n",
       "\n",
       "\\begin{quote}\n",
       "\\textbf{compat}\n",
       "\n",
       "Julia 1.1\n",
       "\n",
       "\\texttt{v} now gets converted to the channel's type with \\href{@ref}{\\texttt{convert}} as \\texttt{put!} is called.\n",
       "\n",
       "\\end{quote}\n",
       "\\rule{\\textwidth}{1pt}\n",
       "\\begin{verbatim}\n",
       "put!(rr::Future, v)\n",
       "\\end{verbatim}\n",
       "Store a value to a \\href{@ref}{\\texttt{Future}} \\texttt{rr}. \\texttt{Future}s are write-once remote references. A \\texttt{put!} on an already set \\texttt{Future} throws an \\texttt{Exception}. All asynchronous remote calls return \\texttt{Future}s and set the value to the return value of the call upon completion.\n",
       "\n",
       "\\rule{\\textwidth}{1pt}\n",
       "\\begin{verbatim}\n",
       "put!(rr::RemoteChannel, args...)\n",
       "\\end{verbatim}\n",
       "Store a set of values to the \\href{@ref}{\\texttt{RemoteChannel}}. If the channel is full, blocks until space is available. Return the first argument.\n",
       "\n"
      ],
      "text/markdown": [
       "```\n",
       "put!(c::Channel, v)\n",
       "```\n",
       "\n",
       "Append an item `v` to the channel `c`. Blocks if the channel is full.\n",
       "\n",
       "For unbuffered channels, blocks until a [`take!`](@ref) is performed by a different task.\n",
       "\n",
       "!!! compat \"Julia 1.1\"\n",
       "    `v` now gets converted to the channel's type with [`convert`](@ref) as `put!` is called.\n",
       "\n",
       "\n",
       "---\n",
       "\n",
       "```\n",
       "put!(rr::Future, v)\n",
       "```\n",
       "\n",
       "Store a value to a [`Future`](@ref) `rr`. `Future`s are write-once remote references. A `put!` on an already set `Future` throws an `Exception`. All asynchronous remote calls return `Future`s and set the value to the return value of the call upon completion.\n",
       "\n",
       "---\n",
       "\n",
       "```\n",
       "put!(rr::RemoteChannel, args...)\n",
       "```\n",
       "\n",
       "Store a set of values to the [`RemoteChannel`](@ref). If the channel is full, blocks until space is available. Return the first argument.\n"
      ],
      "text/plain": [
       "\u001b[36m  put!(c::Channel, v)\u001b[39m\n",
       "\n",
       "  Append an item \u001b[36mv\u001b[39m to the channel \u001b[36mc\u001b[39m. Blocks if the channel is full.\n",
       "\n",
       "  For unbuffered channels, blocks until a \u001b[36mtake!\u001b[39m is performed by a different\n",
       "  task.\n",
       "\n",
       "\u001b[39m\u001b[1m  │ \u001b[22m\u001b[39m\u001b[1mJulia 1.1\u001b[22m\n",
       "\u001b[39m\u001b[1m  │\u001b[22m\n",
       "\u001b[39m\u001b[1m  │\u001b[22m  \u001b[36mv\u001b[39m now gets converted to the channel's type with \u001b[36mconvert\u001b[39m as \u001b[36mput!\u001b[39m is\n",
       "\u001b[39m\u001b[1m  │\u001b[22m  called.\n",
       "\n",
       "  ────────────────────────────────────────────────────────────────────────────\n",
       "\n",
       "\u001b[36m  put!(rr::Future, v)\u001b[39m\n",
       "\n",
       "  Store a value to a \u001b[36mFuture\u001b[39m \u001b[36mrr\u001b[39m. \u001b[36mFuture\u001b[39ms are write-once remote references. A\n",
       "  \u001b[36mput!\u001b[39m on an already set \u001b[36mFuture\u001b[39m throws an \u001b[36mException\u001b[39m. All asynchronous remote\n",
       "  calls return \u001b[36mFuture\u001b[39ms and set the value to the return value of the call upon\n",
       "  completion.\n",
       "\n",
       "  ────────────────────────────────────────────────────────────────────────────\n",
       "\n",
       "\u001b[36m  put!(rr::RemoteChannel, args...)\u001b[39m\n",
       "\n",
       "  Store a set of values to the \u001b[36mRemoteChannel\u001b[39m. If the channel is full, blocks\n",
       "  until space is available. Return the first argument."
      ]
     },
     "execution_count": 36,
     "metadata": {},
     "output_type": "execute_result"
    }
   ],
   "source": [
    "?put!"
   ]
  },
  {
   "cell_type": "code",
   "execution_count": 37,
   "metadata": {},
   "outputs": [
    {
     "name": "stdout",
     "output_type": "stream",
     "text": [
      "search: \u001b[0m\u001b[1mt\u001b[22m\u001b[0m\u001b[1ma\u001b[22m\u001b[0m\u001b[1mk\u001b[22m\u001b[0m\u001b[1me\u001b[22m\u001b[0m\u001b[1m!\u001b[22m S\u001b[0m\u001b[1mt\u001b[22m\u001b[0m\u001b[1ma\u001b[22mc\u001b[0m\u001b[1mk\u001b[22mOv\u001b[0m\u001b[1me\u001b[22mrflowError is\u001b[0m\u001b[1mt\u001b[22m\u001b[0m\u001b[1ma\u001b[22ms\u001b[0m\u001b[1mk\u001b[22mdon\u001b[0m\u001b[1me\u001b[22m s\u001b[0m\u001b[1mt\u001b[22m\u001b[0m\u001b[1ma\u001b[22mc\u001b[0m\u001b[1mk\u001b[22mtrac\u001b[0m\u001b[1me\u001b[22m S\u001b[0m\u001b[1mt\u001b[22m\u001b[0m\u001b[1ma\u001b[22mc\u001b[0m\u001b[1mk\u001b[22mTrac\u001b[0m\u001b[1me\u001b[22ms is\u001b[0m\u001b[1mt\u001b[22m\u001b[0m\u001b[1ma\u001b[22ms\u001b[0m\u001b[1mk\u001b[22mstart\u001b[0m\u001b[1me\u001b[22md\n",
      "\n"
     ]
    },
    {
     "data": {
      "text/latex": [
       "\\begin{verbatim}\n",
       "take!(b::IOBuffer)\n",
       "\\end{verbatim}\n",
       "Obtain the contents of an \\texttt{IOBuffer} as an array, without copying. Afterwards, the \\texttt{IOBuffer} is reset to its initial state.\n",
       "\n",
       "\\section{Examples}\n",
       "\\begin{verbatim}\n",
       "julia> io = IOBuffer();\n",
       "\n",
       "julia> write(io, \"JuliaLang is a GitHub organization.\", \" It has many members.\")\n",
       "56\n",
       "\n",
       "julia> String(take!(io))\n",
       "\"JuliaLang is a GitHub organization. It has many members.\"\n",
       "\\end{verbatim}\n",
       "\\rule{\\textwidth}{1pt}\n",
       "\\begin{verbatim}\n",
       "take!(c::Channel)\n",
       "\\end{verbatim}\n",
       "Remove and return a value from a \\href{@ref}{\\texttt{Channel}}. Blocks until data is available.\n",
       "\n",
       "For unbuffered channels, blocks until a \\href{@ref}{\\texttt{put!}} is performed by a different task.\n",
       "\n",
       "\\rule{\\textwidth}{1pt}\n",
       "\\begin{verbatim}\n",
       "take!(rr::RemoteChannel, args...)\n",
       "\\end{verbatim}\n",
       "Fetch value(s) from a \\href{@ref}{\\texttt{RemoteChannel}} \\texttt{rr}, removing the value(s) in the process.\n",
       "\n"
      ],
      "text/markdown": [
       "```\n",
       "take!(b::IOBuffer)\n",
       "```\n",
       "\n",
       "Obtain the contents of an `IOBuffer` as an array, without copying. Afterwards, the `IOBuffer` is reset to its initial state.\n",
       "\n",
       "# Examples\n",
       "\n",
       "```jldoctest\n",
       "julia> io = IOBuffer();\n",
       "\n",
       "julia> write(io, \"JuliaLang is a GitHub organization.\", \" It has many members.\")\n",
       "56\n",
       "\n",
       "julia> String(take!(io))\n",
       "\"JuliaLang is a GitHub organization. It has many members.\"\n",
       "```\n",
       "\n",
       "---\n",
       "\n",
       "```\n",
       "take!(c::Channel)\n",
       "```\n",
       "\n",
       "Remove and return a value from a [`Channel`](@ref). Blocks until data is available.\n",
       "\n",
       "For unbuffered channels, blocks until a [`put!`](@ref) is performed by a different task.\n",
       "\n",
       "---\n",
       "\n",
       "```\n",
       "take!(rr::RemoteChannel, args...)\n",
       "```\n",
       "\n",
       "Fetch value(s) from a [`RemoteChannel`](@ref) `rr`, removing the value(s) in the process.\n"
      ],
      "text/plain": [
       "\u001b[36m  take!(b::IOBuffer)\u001b[39m\n",
       "\n",
       "  Obtain the contents of an \u001b[36mIOBuffer\u001b[39m as an array, without copying. Afterwards,\n",
       "  the \u001b[36mIOBuffer\u001b[39m is reset to its initial state.\n",
       "\n",
       "\u001b[1m  Examples\u001b[22m\n",
       "\u001b[1m  ≡≡≡≡≡≡≡≡≡≡\u001b[22m\n",
       "\n",
       "\u001b[36m  julia> io = IOBuffer();\u001b[39m\n",
       "\u001b[36m  \u001b[39m\n",
       "\u001b[36m  julia> write(io, \"JuliaLang is a GitHub organization.\", \" It has many members.\")\u001b[39m\n",
       "\u001b[36m  56\u001b[39m\n",
       "\u001b[36m  \u001b[39m\n",
       "\u001b[36m  julia> String(take!(io))\u001b[39m\n",
       "\u001b[36m  \"JuliaLang is a GitHub organization. It has many members.\"\u001b[39m\n",
       "\n",
       "  ────────────────────────────────────────────────────────────────────────────\n",
       "\n",
       "\u001b[36m  take!(c::Channel)\u001b[39m\n",
       "\n",
       "  Remove and return a value from a \u001b[36mChannel\u001b[39m. Blocks until data is available.\n",
       "\n",
       "  For unbuffered channels, blocks until a \u001b[36mput!\u001b[39m is performed by a different\n",
       "  task.\n",
       "\n",
       "  ────────────────────────────────────────────────────────────────────────────\n",
       "\n",
       "\u001b[36m  take!(rr::RemoteChannel, args...)\u001b[39m\n",
       "\n",
       "  Fetch value(s) from a \u001b[36mRemoteChannel\u001b[39m \u001b[36mrr\u001b[39m, removing the value(s) in the\n",
       "  process."
      ]
     },
     "execution_count": 37,
     "metadata": {},
     "output_type": "execute_result"
    }
   ],
   "source": [
    "?take!"
   ]
  },
  {
   "cell_type": "code",
   "execution_count": null,
   "metadata": {},
   "outputs": [],
   "source": []
  }
 ],
 "metadata": {
  "kernelspec": {
   "display_name": "Julia 1.1.0",
   "language": "julia",
   "name": "julia-1.1"
  },
  "language_info": {
   "file_extension": ".jl",
   "mimetype": "application/julia",
   "name": "julia",
   "version": "1.1.0"
  }
 },
 "nbformat": 4,
 "nbformat_minor": 2
}
