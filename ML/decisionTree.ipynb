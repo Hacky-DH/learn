{
 "cells": [
  {
   "cell_type": "markdown",
   "metadata": {},
   "source": [
    "# Decision Tree\n",
    "\n",
    "## create and pruning a decision tree\n",
    "\n",
    "purity and information entropy\n",
    "\n",
    "$$ Entropy(t) = - \\sum p(t)log_2 p(t) $$\n",
    "\n",
    "pre pruning and post pruning"
   ]
  },
  {
   "cell_type": "code",
   "execution_count": 1,
   "metadata": {},
   "outputs": [],
   "source": [
    "import sklearn\n",
    "import seaborn as sns"
   ]
  },
  {
   "cell_type": "code",
   "execution_count": 2,
   "metadata": {
    "scrolled": true
   },
   "outputs": [
    {
     "data": {
      "image/png": "[encoded data removed]",
      "text/plain": [
       "<Figure size 432x288 with 1 Axes>"
      ]
     },
     "metadata": {
      "needs_background": "light"
     },
     "output_type": "display_data"
    }
   ],
   "source": [
    "# entropy\n",
    "import matplotlib.pyplot as plt\n",
    "import numpy as np\n",
    "x=np.arange(0.01,1,0.01)\n",
    "y=-x*np.log2(x)-(1-x)*np.log2(1-x)\n",
    "plt.plot(x, y)\n",
    "plt.show()"
   ]
  },
  {
   "cell_type": "markdown",
   "metadata": {},
   "source": [
    "## Prepare data"
   ]
  },
  {
   "cell_type": "code",
   "execution_count": 3,
   "metadata": {},
   "outputs": [],
   "source": [
    "from sklearn.model_selection import train_test_split\n",
    "from sklearn.metrics import accuracy_score\n",
    "from sklearn.tree import DecisionTreeClassifier\n",
    "from sklearn.datasets import load_iris\n",
    "\n",
    "iris=load_iris()\n",
    "features = iris.data\n",
    "labels = iris.target\n",
    "# random split 33% to test dataset\n",
    "train_features, test_features, train_labels, test_labels = train_test_split(features, labels, test_size=0.33, random_state=0)"
   ]
  },
  {
   "cell_type": "markdown",
   "metadata": {},
   "source": [
    "## ID3\n",
    "Information Gain\n",
    "$$ Gain(D,a) = Entropy(D) - \\sum_{i=1}^k \\frac{|D_i|}{|D|}Entropy(D_i) $$\n",
    "$D$ is parent node, $D_i$ is child node, $a$ is selected feature"
   ]
  },
  {
   "cell_type": "markdown",
   "metadata": {},
   "source": [
    "## C4.5\n",
    "Information Gain Ratio\n",
    "$$ IGR(D,a) = Gain(D,a)/Entropy(a) $$"
   ]
  },
  {
   "cell_type": "markdown",
   "metadata": {},
   "source": [
    "## CART\n",
    "Classification And Regression Tree\n",
    "$$ Gini(t) = 1 - \\sum_k [p(C_k|t)]^2$$\n",
    "$$ Gini(D,a) = \\frac{D_1}{D} Gini(D_1) + \\frac{D_2}{D} Gini(D_2) $$"
   ]
  },
  {
   "cell_type": "markdown",
   "metadata": {},
   "source": [
    "### Classification Tree"
   ]
  },
  {
   "cell_type": "code",
   "execution_count": 4,
   "metadata": {},
   "outputs": [
    {
     "name": "stdout",
     "output_type": "stream",
     "text": [
      "CART accuracy 0.9800\n"
     ]
    }
   ],
   "source": [
    "clf = DecisionTreeClassifier(criterion='gini')\n",
    "clf = clf.fit(train_features, train_labels)\n",
    "test_predict = clf.predict(test_features)\n",
    "score = accuracy_score(test_labels, test_predict)\n",
    "print(\"CART accuracy %.4lf\" % score)"
   ]
  },
  {
   "cell_type": "markdown",
   "metadata": {},
   "source": [
    "### Regression Tree"
   ]
  },
  {
   "cell_type": "code",
   "execution_count": 5,
   "metadata": {},
   "outputs": [],
   "source": [
    "from sklearn.metrics import mean_squared_error\n",
    "from sklearn.datasets import load_boston\n",
    "from sklearn.metrics import r2_score,mean_absolute_error,mean_squared_error\n",
    "from sklearn.tree import DecisionTreeRegressor\n",
    "# Prepare data\n",
    "boston=load_boston()\n",
    "features = boston.data\n",
    "prices = boston.target\n",
    "train_features, test_features, train_price, test_price = train_test_split(features, prices, test_size=0.33)"
   ]
  },
  {
   "cell_type": "code",
   "execution_count": 6,
   "metadata": {
    "scrolled": true
   },
   "outputs": [
    {
     "name": "stdout",
     "output_type": "stream",
     "text": [
      "rt LSD: 19.261556886227545\n",
      "rt LAD: 3.079041916167664\n"
     ]
    }
   ],
   "source": [
    "dtr=DecisionTreeRegressor()\n",
    "dtr.fit(train_features, train_price)\n",
    "predict_price = dtr.predict(test_features)\n",
    "print('rt LSD:', mean_squared_error(test_price, predict_price))\n",
    "print('rt LAD:', mean_absolute_error(test_price, predict_price)) "
   ]
  },
  {
   "cell_type": "markdown",
   "metadata": {},
   "source": [
    "### digits dataset"
   ]
  },
  {
   "cell_type": "code",
   "execution_count": 7,
   "metadata": {},
   "outputs": [
    {
     "name": "stdout",
     "output_type": "stream",
     "text": [
      "CART digits accuracy 0.8502\n"
     ]
    }
   ],
   "source": [
    "from sklearn.datasets import load_digits\n",
    "digits=load_digits()\n",
    "features=digits.data\n",
    "labels=digits.target\n",
    "train_features,test_features,train_labels,test_labels=train_test_split(features,labels,test_size=0.33,random_state=0)\n",
    "\n",
    "clf=DecisionTreeClassifier(criterion='gini')\n",
    "clf=clf.fit(train_features,train_labels)\n",
    "test_predict=clf.predict(test_features)\n",
    "score=accuracy_score(test_labels,test_predict)\n",
    "print(\"CART digits accuracy %.4lf\"%score)"
   ]
  }
 ],
 "metadata": {
  "kernelspec": {
   "display_name": "Python 3",
   "language": "python",
   "name": "python3"
  },
  "language_info": {
   "codemirror_mode": {
    "name": "ipython",
    "version": 3
   },
   "file_extension": ".py",
   "mimetype": "text/x-python",
   "name": "python",
   "nbconvert_exporter": "python",
   "pygments_lexer": "ipython3",
   "version": "3.7.1"
  }
 },
 "nbformat": 4,
 "nbformat_minor": 2
}
