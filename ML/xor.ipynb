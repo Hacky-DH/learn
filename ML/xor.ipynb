{
 "cells": [
  {
   "cell_type": "markdown",
   "metadata": {},
   "source": [
    "# XOR Problem\n",
    "feedforward network or multilayer perceptron, MLP"
   ]
  },
  {
   "cell_type": "code",
   "execution_count": 1,
   "metadata": {},
   "outputs": [],
   "source": [
    "import torch\n",
    "import torch.nn as nn\n",
    "import torch.nn.functional as F\n",
    "import torch.optim as optim"
   ]
  },
  {
   "cell_type": "code",
   "execution_count": 2,
   "metadata": {},
   "outputs": [],
   "source": [
    "train_data = torch.tensor([0,0,0,1,1,0,1,1]).view(4,2).float()\n",
    "train_label = torch.tensor([0,1,1,0]).view(4,1).float()"
   ]
  },
  {
   "cell_type": "code",
   "execution_count": 3,
   "metadata": {},
   "outputs": [],
   "source": [
    "class Xor(nn.Module):\n",
    "    def __init__(self, is_init=False):\n",
    "        super().__init__()\n",
    "        self.hidden = nn.Linear(2,2)\n",
    "        self.output = nn.Linear(2,1, bias=False)\n",
    "        if is_init:\n",
    "            nn.init.constant_(self.hidden.weight, 1)\n",
    "            nn.init.constant_(self.output.weight, 1)\n",
    "    def forward(self, x):\n",
    "        x = F.relu(self.hidden(x))\n",
    "        x = self.output(x)\n",
    "        return x"
   ]
  },
  {
   "cell_type": "code",
   "execution_count": 7,
   "metadata": {},
   "outputs": [
    {
     "name": "stdout",
     "output_type": "stream",
     "text": [
      "final loss 0.1681421548128128\n",
      "accuracy 1.0\n"
     ]
    }
   ],
   "source": [
    "xor = Xor()\n",
    "optimizer = optim.SGD(xor.parameters(), lr = 0.001)\n",
    "criterion = nn.MSELoss()\n",
    "for epoch in range(6000):\n",
    "    optimizer.zero_grad()\n",
    "    output = xor(train_data)\n",
    "    loss = criterion(output, train_label)\n",
    "    loss.backward()\n",
    "    optimizer.step()\n",
    "print('final loss',loss.item())\n",
    "predict = xor(train_data)\n",
    "accuracy = (torch.gt(predict,0.5).float()==train_label).sum().float()/4\n",
    "print('accuracy', accuracy.item())"
   ]
  },
  {
   "cell_type": "code",
   "execution_count": 8,
   "metadata": {},
   "outputs": [
    {
     "data": {
      "text/plain": [
       "tensor([[0.3397],\n",
       "        [0.5357],\n",
       "        [0.6106],\n",
       "        [0.4356]], grad_fn=<MmBackward>)"
      ]
     },
     "execution_count": 8,
     "metadata": {},
     "output_type": "execute_result"
    }
   ],
   "source": [
    "predict"
   ]
  }
 ],
 "metadata": {
  "kernelspec": {
   "display_name": "Python 3",
   "language": "python",
   "name": "python3"
  },
  "language_info": {
   "codemirror_mode": {
    "name": "ipython",
    "version": 3
   },
   "file_extension": ".py",
   "mimetype": "text/x-python",
   "name": "python",
   "nbconvert_exporter": "python",
   "pygments_lexer": "ipython3",
   "version": "3.7.1"
  }
 },
 "nbformat": 4,
 "nbformat_minor": 2
}
